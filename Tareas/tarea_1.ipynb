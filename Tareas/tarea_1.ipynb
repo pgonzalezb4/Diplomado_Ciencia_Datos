{
  "cells": [
    {
      "cell_type": "markdown",
      "metadata": {
        "id": "view-in-github",
        "colab_type": "text"
      },
      "source": [
        "<a href=\"https://colab.research.google.com/github/pgonzalezb4/Diplomado_Ciencia_Datos/blob/main/Tareas/tarea_1.ipynb\" target=\"_parent\"><img src=\"https://colab.research.google.com/assets/colab-badge.svg\" alt=\"Open In Colab\"/></a>"
      ]
    },
    {
      "cell_type": "markdown",
      "id": "d82fe412-d557-469d-bfda-1e52a4bca48a",
      "metadata": {
        "id": "d82fe412-d557-469d-bfda-1e52a4bca48a"
      },
      "source": [
        "![](https://cdn4.iconfinder.com/data/icons/logos-and-brands/512/267_Python_logo-128.png)"
      ]
    },
    {
      "cell_type": "markdown",
      "id": "43da0207-f80f-4b83-b1ce-60b23910d996",
      "metadata": {
        "id": "43da0207-f80f-4b83-b1ce-60b23910d996"
      },
      "source": [
        "# Varianza de una variable aleatoria"
      ]
    },
    {
      "cell_type": "markdown",
      "id": "aca8cafb-5b29-429b-8f6c-cb5e1623a97b",
      "metadata": {
        "id": "aca8cafb-5b29-429b-8f6c-cb5e1623a97b"
      },
      "source": [
        "### Presentación del autor\n",
        "![](https://i.imgur.com/QI1rJPL.jpg)\n",
        "\n",
        "Mi nombre es Pablo Gonzalez, estudiante de Ciencias de la Computación de octavo semestre con experiencia utilizando modelos de Machine Learning para problemas de regresión, clasificación y forecasting. Actualmente trabajo como Machine Learning Developer en MercadoLibre, con experiencia pasada en como desarrollador de python y Data Scientist."
      ]
    },
    {
      "cell_type": "markdown",
      "id": "afd56ed7-59ee-4019-968c-d3f28ac425e7",
      "metadata": {
        "id": "afd56ed7-59ee-4019-968c-d3f28ac425e7"
      },
      "source": [
        "### Presentación del concepto\n",
        "La varianza es una medida de dispersión o variabilidad, es decir, indica la dispersión o separación de un conjunto de datos. Cabe destacar que las medidas de dispersión se encargan de expresar la variabilidad de una distribución por medio de un número, en los casos en que las diferentes puntuaciones de la variable están muy alejadas de la media. A mayor valor de la medida de dispersión, mayor variabilidad. En cambio, a menor valor, más homogeneidad. \n",
        "\n",
        "Hay que tener en cuenta que la varianza puede verse muy influida por los valores atípicos y no se aconseja su uso cuando las distribuciones de las variables aleatorias tienen colas pesadas. En tales casos se recomienda el uso de otras medidas de dispersión más robustas.\n",
        "\n",
        "La unidad de medida de la varianza será siempre la unidad de medida correspondiente a los datos pero elevada al cuadrado. La varianza siempre es mayor o igual que cero.\n",
        "\n",
        "Sea $X$ una variable aleatoria con media $\\mu = E[X]$, se define la varianza de la variable aleatoria $X$ como:\n",
        "\n",
        "$$\n",
        "Var(X) = E[(X - \\mu)^2] = E[X^2] - E^2[X]\n",
        "$$\n",
        "\n",
        "Si tenemos las observaciones $x_1, x_2, ..., x_n$ de una variable aleatoria $X$, entonces también podemos calcular su varianza con la formula\n",
        "\n",
        "$$\n",
        "Var(X) = \\frac{\\sum_{i=1}^n (x_i - \\overline{X})^2}{n}\n",
        "$$\n",
        "\n",
        "#### Ejemplo\n",
        "Supongamos que decidimos lanzar un dado 10 veces, sea $X$ la variable aleatoria que representa el valor del dado obtenido, entonces tenemos las siguientes observaciones:\n",
        "$$\n",
        "X = \\{4, 6, 1, 2, 5, 2, 4, 3, 1, 1\\}\n",
        "$$\n",
        "\n",
        "Vemos que $\\overline{X} = \\frac{4+6+1+2+5+2+4+3+1+1}{10} = \\frac{29}{10} = 2.9$, entonces la varianza de $X$ se calcula así:\n",
        "\n",
        "$$\n",
        "Var(X) = \\frac{(4 - 2.9)^2 + (6 - 2.9)^2 + (1 - 2.9)^2 + (2 - 2.9)^2 + (5 - 2.9)^2 + (2 - 2.9)^2 + (4 - 2.9)^2 + (3 - 2.9)^2 + (1 - 2.9)^2 + (1 - 2.9)^2}{10} = 2.89\n",
        "$$\n",
        "\n",
        "Por lo tanto dadas las observaciones de la variable aleatoria $X$, concluimos que $Var(X) = 2.89$.\n",
        "\n",
        "#### Referencias\n",
        "https://es.wikipedia.org/wiki/Varianza\n",
        "\n",
        "https://gc.scalahed.com/recursos/files/r161r/w24762w/3/Medidasdetendenciacentralydispersion.pdf"
      ]
    },
    {
      "cell_type": "code",
      "execution_count": null,
      "id": "2524e65b-f94a-4786-9ff5-92bfe4f78835",
      "metadata": {
        "id": "2524e65b-f94a-4786-9ff5-92bfe4f78835"
      },
      "outputs": [],
      "source": []
    }
  ],
  "metadata": {
    "kernelspec": {
      "display_name": "Python 3 (ipykernel)",
      "language": "python",
      "name": "python3"
    },
    "language_info": {
      "codemirror_mode": {
        "name": "ipython",
        "version": 3
      },
      "file_extension": ".py",
      "mimetype": "text/x-python",
      "name": "python",
      "nbconvert_exporter": "python",
      "pygments_lexer": "ipython3",
      "version": "3.10.4"
    },
    "colab": {
      "provenance": [],
      "include_colab_link": true
    }
  },
  "nbformat": 4,
  "nbformat_minor": 5
}