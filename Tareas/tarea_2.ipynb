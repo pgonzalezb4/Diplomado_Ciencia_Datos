{
 "cells": [
  {
   "cell_type": "markdown",
   "id": "e9ac6057-6923-4732-9142-8cf7af6d5783",
   "metadata": {},
   "source": [
    "## Tarea 2 - Pablo Gonzalez B."
   ]
  },
  {
   "cell_type": "markdown",
   "id": "25b5c82d-5747-47dd-8a6e-6f110850c7b7",
   "metadata": {},
   "source": [
    "### Importar librerias"
   ]
  },
  {
   "cell_type": "code",
   "execution_count": null,
   "id": "b105d51f-ef1d-4f7c-9bc8-27eeee1aa255",
   "metadata": {},
   "outputs": [],
   "source": [
    "import math\n",
    "import functools\n",
    "from datetime import datetime, date"
   ]
  },
  {
   "cell_type": "markdown",
   "id": "5c8e3df6-4fcb-4f5f-aa91-e53fe4636631",
   "metadata": {},
   "source": [
    "#### Punto 1."
   ]
  },
  {
   "cell_type": "code",
   "execution_count": null,
   "id": "30b8fee5-fd45-4d0a-820f-d19902814148",
   "metadata": {},
   "outputs": [],
   "source": [
    "def ObtenerEdad(day : int, month : int, year : int) -> int:\n",
    "    birthdate = datetime(year, month, day)\n",
    "    today = date.today()\n",
    "    age =  today.year - birthdate.year - ((today.month, today.day) < (birthdate.month, birthdate.day))\n",
    "    return age"
   ]
  },
  {
   "cell_type": "code",
   "execution_count": null,
   "id": "a080f7e7-ad6c-4c43-a8ba-edba2612a872",
   "metadata": {},
   "outputs": [],
   "source": [
    "ObtenerEdad(11, 11, 2000)"
   ]
  },
  {
   "cell_type": "markdown",
   "id": "f69b0955-0766-42db-b32f-3de2c1bab07b",
   "metadata": {},
   "source": [
    "#### Punto 2."
   ]
  },
  {
   "cell_type": "code",
   "execution_count": null,
   "id": "8112e4df-b62c-4ca7-ad82-329b67fde15c",
   "metadata": {},
   "outputs": [],
   "source": [
    "def EscribirCentrado(text : str) -> str:\n",
    "    print(' '*(40 - len(text)//2) + text)"
   ]
  },
  {
   "cell_type": "code",
   "execution_count": null,
   "id": "648bdc94-95da-4c85-b051-d7e8f4b1a69b",
   "metadata": {},
   "outputs": [],
   "source": [
    "EscribirCentrado(\"Hola\")"
   ]
  },
  {
   "cell_type": "markdown",
   "id": "aed9950e-e914-4bc8-98fa-e9f349ec5a44",
   "metadata": {},
   "source": [
    "#### Punto 3."
   ]
  },
  {
   "cell_type": "code",
   "execution_count": null,
   "id": "990103bc-2abc-4fea-9779-4a905aa7ba52",
   "metadata": {},
   "outputs": [],
   "source": [
    "def FuncionDecorador(f):\n",
    "    def FuncionNueva(s):\n",
    "        s = '__' + s + '__'\n",
    "        f(s)\n",
    "    return FuncionNueva\n",
    "\n",
    "@FuncionDecorador\n",
    "def FuncionInicial(s):\n",
    "    s = '***' + s + '***'\n",
    "    print(s)"
   ]
  },
  {
   "cell_type": "code",
   "execution_count": null,
   "id": "001b1936-168d-416d-afc8-22866240af4c",
   "metadata": {},
   "outputs": [],
   "source": [
    "FuncionInicial(\"Hola\")"
   ]
  },
  {
   "cell_type": "markdown",
   "id": "996e5b22-e63f-493a-9cc2-46c167c9f184",
   "metadata": {},
   "source": [
    "#### Punto 4."
   ]
  },
  {
   "cell_type": "code",
   "execution_count": null,
   "id": "4b4f0830-af37-4bc8-877b-4fb10f168818",
   "metadata": {},
   "outputs": [],
   "source": [
    "def SonMultiplos(a : int, b : int) -> bool:\n",
    "    if a and (b % a) == 0 or b and a % b == 0:\n",
    "        return True\n",
    "    return False"
   ]
  },
  {
   "cell_type": "code",
   "execution_count": null,
   "id": "eeeacea4-8ba1-4ed5-84f6-713747d7032d",
   "metadata": {},
   "outputs": [],
   "source": [
    "SonMultiplos(5, 10)"
   ]
  },
  {
   "cell_type": "code",
   "execution_count": null,
   "id": "dc01667b-8fe2-41e7-a51b-9aca5e2bbe6f",
   "metadata": {},
   "outputs": [],
   "source": [
    "SonMultiplos(2, 3)"
   ]
  },
  {
   "cell_type": "markdown",
   "id": "2f1da0e6-b43c-4294-af72-40ef8d3f9857",
   "metadata": {},
   "source": [
    "#### Punto 5."
   ]
  },
  {
   "cell_type": "code",
   "execution_count": null,
   "id": "dcd4ecf9-b5f4-44b3-b4af-a9568de9ce59",
   "metadata": {},
   "outputs": [],
   "source": [
    "def TemperaturaMedia(temperaturas : list) -> float:\n",
    "    return sum(temperaturas) / len(temperaturas)"
   ]
  },
  {
   "cell_type": "code",
   "execution_count": null,
   "id": "f3277baa-a9e9-4d6d-9a62-2e8eac345f2d",
   "metadata": {},
   "outputs": [],
   "source": [
    "TemperaturaMedia([12, 11, 14, 14, 10, 11, 14, 14, 14, 11, 12, 14, 11, 14, 14, 11, 14, 10, 14, 11, 12, 14, 10, 11])"
   ]
  },
  {
   "cell_type": "markdown",
   "id": "8341821d-f063-4d77-b828-56c4c4133b02",
   "metadata": {},
   "source": [
    "#### Punto 6."
   ]
  },
  {
   "cell_type": "code",
   "execution_count": null,
   "id": "93ea805b-10a0-44ee-a40a-d09453038e56",
   "metadata": {},
   "outputs": [],
   "source": [
    "def ConvertirEspaciado(text : str) -> str:\n",
    "    return text.replace(' ', '').replace('', ' ').strip()"
   ]
  },
  {
   "cell_type": "code",
   "execution_count": null,
   "id": "e3486e24-a6a4-4ba8-928b-3d6eff443375",
   "metadata": {},
   "outputs": [],
   "source": [
    "ConvertirEspaciado(\"Hola, tu\")"
   ]
  },
  {
   "cell_type": "markdown",
   "id": "6d30d68e-53ed-461d-b1bd-e480b1701bdc",
   "metadata": {},
   "source": [
    "#### Punto 7."
   ]
  },
  {
   "cell_type": "code",
   "execution_count": null,
   "id": "9e24ed58-f48f-4d13-abf1-bd2c9876ea55",
   "metadata": {},
   "outputs": [],
   "source": [
    "def CalcularMaxMin(values : list) -> tuple:\n",
    "    return max(values), min(values)"
   ]
  },
  {
   "cell_type": "code",
   "execution_count": null,
   "id": "7b3d6ebd-073a-4642-bd69-5f7f97db00f2",
   "metadata": {},
   "outputs": [],
   "source": [
    "CalcularMaxMin([10, 7, 2, 68, 34, 26, 23, 8, 12, 53])"
   ]
  },
  {
   "cell_type": "markdown",
   "id": "d83e5d22-0835-4c87-baea-58a7149c6ee5",
   "metadata": {},
   "source": [
    "#### Punto 8."
   ]
  },
  {
   "cell_type": "code",
   "execution_count": null,
   "id": "817ae818-5eb0-483e-94ce-5ea3baabeedc",
   "metadata": {},
   "outputs": [],
   "source": [
    "def CalcularAreaPerimetro(radio : int) -> tuple:\n",
    "    area = math.pi * radio**2\n",
    "    perimetro = 2 * math.pi * radio\n",
    "    return area, perimetro"
   ]
  },
  {
   "cell_type": "code",
   "execution_count": null,
   "id": "670bb7e1-d09d-401f-8976-926e00e7facb",
   "metadata": {},
   "outputs": [],
   "source": [
    "CalcularAreaPerimetro(4)"
   ]
  },
  {
   "cell_type": "markdown",
   "id": "6b00bfe1-f13b-4701-bd0f-f7ef603f3d54",
   "metadata": {},
   "source": [
    "#### Punto 9."
   ]
  },
  {
   "cell_type": "code",
   "execution_count": null,
   "id": "bb3c4d63-a8f9-47e2-a55e-23a553c4dac2",
   "metadata": {},
   "outputs": [],
   "source": [
    "def Login(user : str, password : str, n_intentos : int) -> str:\n",
    "    if user == 'usuario1' and password == 'asdasd':\n",
    "        return 'Login correcto'\n",
    "    else:\n",
    "        n_intentos += 1\n",
    "        print('Login incorrecto')\n",
    "        return f'Intentos efectuados: {n_intentos}'"
   ]
  },
  {
   "cell_type": "code",
   "execution_count": null,
   "id": "4ff9a29e-102c-4f86-8c8b-ca14bcbe5914",
   "metadata": {},
   "outputs": [],
   "source": [
    "Login('usuario2', 'asd', 4)"
   ]
  },
  {
   "cell_type": "code",
   "execution_count": null,
   "id": "ace3bd36-3dc2-45fc-97b7-71e50b0402a0",
   "metadata": {},
   "outputs": [],
   "source": [
    "Login('usuario1', 'asdasd', 1)"
   ]
  },
  {
   "cell_type": "markdown",
   "id": "7a2735d0-c674-4926-a6ab-fe293b5f0b90",
   "metadata": {},
   "source": [
    "#### Punto 10."
   ]
  },
  {
   "cell_type": "code",
   "execution_count": null,
   "id": "6f09a647-fa5f-49f4-8c19-80d95805b97e",
   "metadata": {},
   "outputs": [],
   "source": [
    "def fac(n):\n",
    "    if n == 0 or n == 1:\n",
    "        return 1\n",
    "    else:\n",
    "        return n * fac(n-1)"
   ]
  },
  {
   "cell_type": "code",
   "execution_count": null,
   "id": "ea472500-f822-42f1-b943-f4fa079f715f",
   "metadata": {},
   "outputs": [],
   "source": [
    "fac(5)"
   ]
  },
  {
   "cell_type": "markdown",
   "id": "4174f904-733f-4539-85da-4507e458723f",
   "metadata": {},
   "source": [
    "#### Punto 11."
   ]
  },
  {
   "cell_type": "code",
   "execution_count": null,
   "id": "18149ba6-70a6-4558-91ed-adb83f48fe38",
   "metadata": {},
   "outputs": [],
   "source": [
    "def TiempoASegundos(horas : int, minutos : int, segundos : int) -> int:\n",
    "    return segundos + minutos*60 + horas*3600"
   ]
  },
  {
   "cell_type": "code",
   "execution_count": null,
   "id": "90b8e996-d22f-47e7-a4fd-34119bc2c88c",
   "metadata": {},
   "outputs": [],
   "source": [
    "TiempoASegundos(10, 55, 23)"
   ]
  },
  {
   "cell_type": "code",
   "execution_count": null,
   "id": "d605498f-bdaa-4218-9d8d-6165cd8eda32",
   "metadata": {},
   "outputs": [],
   "source": [
    "def SegundosATiempo(segundos : int) -> tuple:\n",
    "    horas = segundos / 3600\n",
    "    minutos = (horas % 1)*60\n",
    "    segundos = (minutos % 1)*60\n",
    "    return math.floor(horas), math.floor(minutos), math.ceil(segundos)"
   ]
  },
  {
   "cell_type": "code",
   "execution_count": null,
   "id": "ae5e9274-4e80-4c00-b998-13f486021795",
   "metadata": {},
   "outputs": [],
   "source": [
    "SegundosATiempo(39323)"
   ]
  },
  {
   "cell_type": "markdown",
   "id": "2f3ef2da-0137-41a8-bf07-e886c27b9516",
   "metadata": {},
   "source": [
    "#### Punto 12."
   ]
  },
  {
   "cell_type": "code",
   "execution_count": null,
   "id": "b4e537bb-9c61-4c3b-a5e5-72eb836fca30",
   "metadata": {},
   "outputs": [],
   "source": [
    "def InvertirTupla(tupla : tuple) -> tuple:\n",
    "    res = tuple(reversed([elem for elem in tupla]))\n",
    "    return res"
   ]
  },
  {
   "cell_type": "code",
   "execution_count": null,
   "id": "b5f2857b-06e1-4f65-ab14-f28e91c4f4d0",
   "metadata": {},
   "outputs": [],
   "source": [
    "InvertirTupla((1, 2, 3))"
   ]
  },
  {
   "cell_type": "markdown",
   "id": "dc51fc60-bed0-4a91-a4c1-63f08548f860",
   "metadata": {},
   "source": [
    "#### Punto 13."
   ]
  },
  {
   "cell_type": "code",
   "execution_count": null,
   "id": "3fc87d38-4990-4d73-b01e-d9ebcc0bf4e9",
   "metadata": {},
   "outputs": [],
   "source": [
    "def CalcularMediaGeometrica(lista : list) -> float:\n",
    "    geometric_mean = functools.reduce(lambda a, b : a * b, lista) ** (1/len(lista))\n",
    "    return geometric_mean"
   ]
  },
  {
   "cell_type": "code",
   "execution_count": null,
   "id": "bc320a62-906c-49ce-a6f1-c39176ad494d",
   "metadata": {},
   "outputs": [],
   "source": [
    "CalcularMediaGeometrica([2,7,3,6,1,8,4,4,6,12])"
   ]
  }
 ],
 "metadata": {
  "kernelspec": {
   "display_name": "Python 3 (ipykernel)",
   "language": "python",
   "name": "python3"
  },
  "language_info": {
   "codemirror_mode": {
    "name": "ipython",
    "version": 3
   },
   "file_extension": ".py",
   "mimetype": "text/x-python",
   "name": "python",
   "nbconvert_exporter": "python",
   "pygments_lexer": "ipython3",
   "version": "3.10.4"
  }
 },
 "nbformat": 4,
 "nbformat_minor": 5
}
